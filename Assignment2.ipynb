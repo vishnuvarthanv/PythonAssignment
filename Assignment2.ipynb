{
 "cells": [
  {
   "cell_type": "markdown",
   "metadata": {},
   "source": [
    "Task 1:\n",
    "\n",
    "1.1 Write a Python Program to implement your own myreduce() function which works exactly like\n",
    "Python's built-in function reduce()"
   ]
  },
  {
   "cell_type": "code",
   "execution_count": 1,
   "metadata": {},
   "outputs": [
    {
     "name": "stdout",
     "output_type": "stream",
     "text": [
      "Addition of all element in list a : 15\n",
      "Multiple of all elements in list a : 120\n"
     ]
    }
   ],
   "source": [
    "def myreduce(fun, alist):\n",
    "    x = alist[0]\n",
    "    \n",
    "    for i in range(1, len(alist)):\n",
    "        x = fun(x, alist[i])\n",
    "    \n",
    "    return x\n",
    "\n",
    "def addition(x1, x2):\n",
    "    return x1 + x2\n",
    "\n",
    "def multiple(x1, x2):\n",
    "    return(x1 * x2)\n",
    "\n",
    "a = [1, 2, 3, 4, 5]\n",
    "\n",
    "print(\"Addition of all element in list a :\", myreduce(addition, a))\n",
    "print(\"Multiple of all elements in list a :\", myreduce(multiple, a))"
   ]
  },
  {
   "cell_type": "markdown",
   "metadata": {},
   "source": [
    "1.2 Write a Python program to implement your own myfilter() function which works exactly like\n",
    "Python's built-in function filter()"
   ]
  },
  {
   "cell_type": "code",
   "execution_count": 2,
   "metadata": {},
   "outputs": [
    {
     "name": "stdout",
     "output_type": "stream",
     "text": [
      "Filter only positive Integers on list [0,1,-2,3,4,5] using custom filter function[1, 3, 4, 5]\n"
     ]
    }
   ],
   "source": [
    "def myfilter(anyfunc, sequence):\n",
    "\n",
    " # Initialize empty list\n",
    " result = []\n",
    "    \n",
    " # iterate over sequence of items in sequence and apply filter function\n",
    " for item in sequence:\n",
    "  if anyfunc(item):\n",
    "   result.append(item)\n",
    "\n",
    " # return final output\n",
    " return result\n",
    "\n",
    "# test myfilter function\n",
    "def ispositive(x):\n",
    " if (x <= 0): \n",
    "  return False \n",
    " else: \n",
    "  return True\n",
    "\n",
    "print (\"Filter only positive Integers on list [0,1,-2,3,4,5] using custom filter function\"  + str(myfilter(ispositive, [0,1,-2,3,4,5])))"
   ]
  },
  {
   "cell_type": "markdown",
   "metadata": {},
   "source": [
    "2. Implement List comprehensions to produce the following lists.\n",
    "Write List comprehensions to produce the following Lists\n",
    "['A', 'C', 'A', 'D', 'G', 'I', ’L’, ‘ D’]\n",
    "['x', 'xx', 'xxx', 'xxxx', 'y', 'yy', 'yyy', 'yyyy', 'z', 'zz', 'zzz', 'zzzz']\n",
    "['x', 'y', 'z', 'xx', 'yy', 'zz', 'xx', 'yy', 'zz', 'xxxx', 'yyyy', 'zzzz']\n",
    "[[2], [3], [4], [3], [4], [5], [4], [5], [6]]\n",
    "[[2, 3, 4, 5], [3, 4, 5, 6], [4, 5, 6, 7], [5, 6, 7, 8]]\n",
    "[(1, 1), (2, 1), (3, 1), (1, 2), (2, 2), (3, 2), (1, 3), (2, 3), (3, 3)]\n"
   ]
  },
  {
   "cell_type": "code",
   "execution_count": 3,
   "metadata": {},
   "outputs": [
    {
     "name": "stdout",
     "output_type": "stream",
     "text": [
      "['A', 'C', 'A', 'D', 'G', 'I', 'L', 'D']\n",
      "\n",
      "\n",
      "['x', 'xx', 'xxx', 'xxxx', 'y', 'yy', 'yyy', 'yyyy', 'z', 'zz', 'zzz', 'zzzz']\n",
      "\n",
      "\n",
      "['x', 'y', 'z', 'xx', 'yy', 'zz', 'xxx', 'yyy', 'zzz', 'xxxx', 'yyyy', 'zzzz']\n",
      "\n",
      "\n",
      "[[2], [3], [4], [3], [4], [5], [4], [5], [6]]\n",
      "\n",
      "\n",
      "[[2, 3, 4, 5], [3, 4, 5, 6], [4, 5, 6, 7], [5, 6, 7, 8]]\n",
      "\n",
      "\n",
      "[(1, 1), (2, 1), (3, 1), (1, 2), (2, 2), (3, 2), (1, 3), (2, 3), (3, 3)]\n"
     ]
    }
   ],
   "source": [
    "print([i for i in 'ACADGILD'])\n",
    "print(\"\\n\")\n",
    "\n",
    "input_l = ['x','y','z']\n",
    "print([ item*num for item in input_l for num in range(1,5)  ])\n",
    "print(\"\\n\")\n",
    "\n",
    "print([ item*num for num in range(1,5) for item in input_l  ])\n",
    "print(\"\\n\")\n",
    "\n",
    "input_list = [2,3,4]\n",
    "print([ [item+num] for item in input_list for num in range(0,3)])\n",
    "print(\"\\n\")\n",
    "\n",
    "input_list = [2,3,4,5]\n",
    "print([ [item+num for item in input_list] for num in range(0,4) ])\n",
    "print(\"\\n\")\n",
    "\n",
    "input_list=[1,2,3]\n",
    "print([ (b,a) for a in input_list for b in input_list])"
   ]
  },
  {
   "cell_type": "markdown",
   "metadata": {},
   "source": [
    "3. Implement a function longestWord() that takes a list of words and returns the longest one."
   ]
  },
  {
   "cell_type": "code",
   "execution_count": 4,
   "metadata": {},
   "outputs": [
    {
     "name": "stdout",
     "output_type": "stream",
     "text": [
      "Machine Learning & Artificial intelligence\n"
     ]
    }
   ],
   "source": [
    "def longestWord(array=None):\n",
    "    max_len_word = \"\"\n",
    "    for word in array:\n",
    "        if len(word) > len(max_len_word):\n",
    "            max_len_word = word\n",
    "    return max_len_word\n",
    "\n",
    "arr = [\"My\", \"name\", \"is\", \"Vishnuvarthan\", \"and\", \"Learning\", \"Machine Learning & Artificial intelligence\"]\n",
    "result = longestWord(array= arr)\n",
    "print(result)"
   ]
  },
  {
   "cell_type": "markdown",
   "metadata": {},
   "source": [
    "Task 2:\n",
    "1.1 Write a Python Program(with class concepts) to find the area of the triangle using the below\n",
    "formula.\n",
    "area = (s*(s-a)*(s-b)*(s-c)) ** 0.5\n",
    "Function to take the length of the sides of triangle from user should be defined in the parent\n",
    "class and function to calculate the area should be defined in subclass."
   ]
  },
  {
   "cell_type": "code",
   "execution_count": 6,
   "metadata": {},
   "outputs": [
    {
     "name": "stdout",
     "output_type": "stream",
     "text": [
      "Enter the value of side 1: 5\n",
      "Enter the value of side 2: 6\n",
      "Enter the value of side 3: 7\n",
      "Area of the triangle 4.898979\n"
     ]
    }
   ],
   "source": [
    "class AreaOfTriangle:\n",
    "    def __init__(self,side1,side2,side3):\n",
    "        self.side1=side1\n",
    "        self.side2=side2\n",
    "        self.side3=side3\n",
    "    \n",
    "    def CalculateAreaOfTriangle(self):\n",
    "        s=(self.side1+self.side2+self.side3)/2\n",
    "        return ((s-self.side1)*(s-self.side2)*(s-self.side3))**0.5\n",
    "    \n",
    "a=float(input('Enter the value of side 1: '))\n",
    "b=float(input('Enter the value of side 2: '))\n",
    "c=float(input('Enter the value of side 3: '))\n",
    "result = AreaOfTriangle(a,b,c).CalculateAreaOfTriangle()\n",
    "print('Area of the triangle %f'% result)"
   ]
  },
  {
   "cell_type": "markdown",
   "metadata": {},
   "source": [
    "1.2 Write a function filter_long_words() that takes a list of words and an integer n and returns the list\n",
    "of words that are longer than n.\n"
   ]
  },
  {
   "cell_type": "code",
   "execution_count": 8,
   "metadata": {},
   "outputs": [
    {
     "data": {
      "text/plain": [
       "['enter', 'value', 'by vishnu']"
      ]
     },
     "execution_count": 8,
     "metadata": {},
     "output_type": "execute_result"
    }
   ],
   "source": [
    "def filter_long_words(args, integer):\n",
    "    wordlist=[]\n",
    "    for word in args:\n",
    "        if len(word)>integer:\n",
    "            wordlist.append(word)\n",
    "    return wordlist\n",
    "\n",
    "items = ['enter','the','value','of','side','by vishnu']\n",
    "\n",
    "filter_long_words(items, 4)"
   ]
  },
  {
   "cell_type": "markdown",
   "metadata": {},
   "source": [
    "2.1 Write a Python program using function concept that maps list of words into a list of integers\n",
    "representing the lengths of the corresponding words.\n",
    "Hint: If a list [ ab,cde,erty] is passed on to the python function output should come as [2,3,4]\n",
    "Here 2,3 and 4 are the lengths of the words in the list"
   ]
  },
  {
   "cell_type": "code",
   "execution_count": 11,
   "metadata": {},
   "outputs": [
    {
     "name": "stdout",
     "output_type": "stream",
     "text": [
      "[2, 3, 4]\n"
     ]
    }
   ],
   "source": [
    "items=['ab', 'cde','erty']\n",
    "def lengthM(lst):\n",
    "    print([ len(x) for x in lst])       \n",
    "lengthM(items)"
   ]
  },
  {
   "cell_type": "markdown",
   "metadata": {},
   "source": [
    "2.2 Write a Python function which takes a character (i.e. a string of length 1) and returns True if it is\n",
    "a vowel, False otherwise.\n"
   ]
  },
  {
   "cell_type": "code",
   "execution_count": 12,
   "metadata": {},
   "outputs": [
    {
     "name": "stdout",
     "output_type": "stream",
     "text": [
      "True\n",
      "False\n"
     ]
    }
   ],
   "source": [
    "def IsVowel(character):\n",
    "    vowels=['a','e','i','o','u']\n",
    "    if character in vowels:\n",
    "        return True\n",
    "    return False\n",
    "print(IsVowel('a'))\n",
    "print(IsVowel('b'))"
   ]
  },
  {
   "cell_type": "code",
   "execution_count": null,
   "metadata": {},
   "outputs": [],
   "source": []
  }
 ],
 "metadata": {
  "kernelspec": {
   "display_name": "Python 3",
   "language": "python",
   "name": "python3"
  },
  "language_info": {
   "codemirror_mode": {
    "name": "ipython",
    "version": 3
   },
   "file_extension": ".py",
   "mimetype": "text/x-python",
   "name": "python",
   "nbconvert_exporter": "python",
   "pygments_lexer": "ipython3",
   "version": "3.7.7"
  }
 },
 "nbformat": 4,
 "nbformat_minor": 4
}
