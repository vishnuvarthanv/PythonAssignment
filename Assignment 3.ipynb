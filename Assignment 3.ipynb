{
 "cells": [
  {
   "cell_type": "markdown",
   "metadata": {
    "collapsed": false
   },
   "source": [
    "Task 1:\n",
    "    1. Write a function to compute 5/0 and use try/except to catch the exceptions."
   ]
  },
  {
   "cell_type": "code",
   "execution_count": 2,
   "metadata": {
    "collapsed": false
   },
   "outputs": [
    {
     "name": "stdout",
     "output_type": "stream",
     "text": [
      "Exception: Divide by Zero\n",
      "2.5\n"
     ]
    }
   ],
   "source": [
    "def DivideByZero(x,y):\n",
    "    try:\n",
    "        z=x/y\n",
    "        print(z)\n",
    "    except:\n",
    "        y=0\n",
    "        print(\"Exception: Divide by Zero\")\n",
    "\n",
    "DivideByZero(5,0)\n",
    "DivideByZero(5,2)"
   ]
  },
  {
   "cell_type": "markdown",
   "metadata": {
    "collapsed": false
   },
   "source": [
    "2. Implement a Python program to generate all sentences where \n",
    "subject is in [\"Americans\",\"Indians\"] and \n",
    "verb is in [\"Play\", \"watch\"] and \n",
    "the object is in [\"Baseball\",\"cricket\"].\n",
    "Hint: Subject,Verb and Object should be declared in the program as shown below.\n",
    "subjects=[\"Americans \",\"Indians\"]\n",
    "verbs=[\"play\",\"watch\"]\n",
    "objects=[\"Baseball\",\"Cricket\"]"
   ]
  },
  {
   "cell_type": "code",
   "execution_count": 4,
   "metadata": {
    "collapsed": false
   },
   "outputs": [
    {
     "name": "stdout",
     "output_type": "stream",
     "text": [
      "Americans Play Baseball\n",
      "Americans Play cricket\n",
      "Americans watch Baseball\n",
      "Americans watch cricket\n",
      "Indians Play Baseball\n",
      "Indians Play cricket\n",
      "Indians watch Baseball\n",
      "Indians watch cricket\n"
     ]
    }
   ],
   "source": [
    "subjects = ['Americans','Indians']\n",
    "verbs = ['Play', 'watch']\n",
    "objects = ['Baseball','cricket']\n",
    "sentences=[' '.join([sub, ver, obj]) for sub in subjects for ver in verbs for obj in objects]\n",
    "for sentence in sentences:\n",
    "         print(sentence)"
   ]
  },
  {
   "cell_type": "markdown",
   "metadata": {
    "collapsed": false
   },
   "source": [
    "Task 2.\n",
    "1. Write a function so that the columns of the output matrix are powers of the input vector.\n",
    "The order of the powers is determined by the increasing boolean argument. Specifically, when\n",
    "increasing is False, the i-th output column is the input vector raised element-wise to the power\n",
    "of N - i - 1.\n",
    "HINT: Such a matrix with a geometric progression in each row is named for AlexandreTheophile Vandermonde.\n"
   ]
  },
  {
   "cell_type": "code",
   "execution_count": 5,
   "metadata": {
    "collapsed": false
   },
   "outputs": [
    {
     "data": {
      "text/plain": [
       "array([[  3,   1],\n",
       "       [  5,   1],\n",
       "       [  7,   1],\n",
       "       [  2,   1],\n",
       "       [  8,   1],\n",
       "       [ 10,   1],\n",
       "       [ 11,   1],\n",
       "       [ 65,   1],\n",
       "       [ 72,   1],\n",
       "       [ 81,   1],\n",
       "       [ 99,   1],\n",
       "       [100,   1],\n",
       "       [150,   1]])"
      ]
     },
     "execution_count": 5,
     "metadata": {
     },
     "output_type": "execute_result"
    }
   ],
   "source": [
    "import numpy as np\n",
    "x=np.array([3,5,7,2,8,10,11,65,72,81,99,100,150])\n",
    "N=2\n",
    "np.column_stack([x**(N-1-i) for i in range(N)])"
   ]
  }
 ],
 "metadata": {
  "kernelspec": {
   "display_name": "Python 3 (system-wide)",
   "language": "python",
   "metadata": {
    "cocalc": {
     "description": "Python 3 programming language",
     "priority": 100,
     "url": "https://www.python.org/"
    }
   },
   "name": "python3"
  },
  "language_info": {
   "codemirror_mode": {
    "name": "ipython",
    "version": 3
   },
   "file_extension": ".py",
   "mimetype": "text/x-python",
   "name": "python",
   "nbconvert_exporter": "python",
   "pygments_lexer": "ipython3",
   "version": "3.6.9"
  }
 },
 "nbformat": 4,
 "nbformat_minor": 4
}